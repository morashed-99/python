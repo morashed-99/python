{
 "cells": [
  {
   "cell_type": "code",
   "execution_count": 1,
   "id": "b7cbe92e-4c06-495d-a00d-9d58321fe324",
   "metadata": {},
   "outputs": [
    {
     "name": "stdout",
     "output_type": "stream",
     "text": [
      "please entre your name :  mohamed osama\n"
     ]
    },
    {
     "name": "stdout",
     "output_type": "stream",
     "text": [
      "Hello Mohamed osama, Welcome to Rock-Paper-Scissors!\n"
     ]
    },
    {
     "name": "stdout",
     "output_type": "stream",
     "text": [
      "you want to play \"yes or no\" yes\n"
     ]
    },
    {
     "name": "stdout",
     "output_type": "stream",
     "text": [
      "So lets start our game\n"
     ]
    },
    {
     "name": "stdout",
     "output_type": "stream",
     "text": [
      "Enter your choice (rock, paper, scissors):  rock\n"
     ]
    },
    {
     "name": "stdout",
     "output_type": "stream",
     "text": [
      "\n",
      "mohamed osama, You chose: rock\n",
      "Computer chose: rock\n",
      "Hahahah no winner.\n"
     ]
    },
    {
     "name": "stdout",
     "output_type": "stream",
     "text": [
      "Enter your choice (rock, paper, scissors):  paper\n"
     ]
    },
    {
     "name": "stdout",
     "output_type": "stream",
     "text": [
      "paper\n"
     ]
    },
    {
     "name": "stdout",
     "output_type": "stream",
     "text": [
      "you want to continue playing? \"yes or no :\" yes\n",
      "Enter your choice (rock, paper, scissors):  paper\n"
     ]
    },
    {
     "name": "stdout",
     "output_type": "stream",
     "text": [
      "\n",
      "mohamed osama, You chose: paper\n",
      "Computer chose: rock\n",
      "You win!\n"
     ]
    },
    {
     "name": "stdout",
     "output_type": "stream",
     "text": [
      "you want to continue playing? \"yes or no :\" no\n"
     ]
    },
    {
     "name": "stdout",
     "output_type": "stream",
     "text": [
      "see you later dear mohamed osama\n"
     ]
    }
   ],
   "source": [
    "import random\n",
    "\n",
    "user = str(input('please entre your name : '))\n",
    "print(f\"Hello {user.strip().capitalize()}, Welcome to Rock-Paper-Scissors!\")\n",
    "ready = str(input('you want to play \"yes or no\"')).strip().lower()\n",
    "if ready == 'yes':\n",
    "    playing = 'yes'\n",
    "    print(\"So lets start our game\")\n",
    "    \n",
    "    while playing == 'yes':\n",
    "        \n",
    "        def get_user_choice():\n",
    "            user_input = str(input(\"Enter your choice (rock, paper, scissors): \")).strip().lower()\n",
    "            if user_input not in [\"rock\", \"paper\", \"scissors\"]:\n",
    "                print(\"Invalid choice, try again.\")\n",
    "                return get_user_choice()\n",
    "            return user_input\n",
    "\n",
    "        def get_computer_choice():\n",
    "            return random.choice([\"rock\", \"paper\", \"scissors\"])\n",
    "\n",
    "        def determine_winner(user_choice, computer_choice):\n",
    "            if user_choice == computer_choice:\n",
    "                print(\"Hahahah no winner.\")\n",
    "                return get_user_choice()   \n",
    "            elif user_choice == \"rock\" and computer_choice == \"scissors\":\n",
    "                return \"You win!\"\n",
    "            elif user_choice == \"paper\" and computer_choice == \"rock\":\n",
    "                return \"You win!\"\n",
    "            elif user_choice == \"scissors\" and computer_choice == \"paper\":\n",
    "                return \"You win!\"\n",
    "            else:\n",
    "                return \"Computer wins!\"\n",
    "\n",
    "        def play_game():\n",
    "            user_choice = get_user_choice()\n",
    "            computer_choice = get_computer_choice()\n",
    "            print(f\"\\n{user}, You chose: {user_choice}\")\n",
    "            print(f\"Computer chose: {computer_choice}\")\n",
    "            print(determine_winner(user_choice, computer_choice))\n",
    "        play_game()\n",
    "        \n",
    "        \n",
    "        playing = str(input('you want to continue playing? \"yes or no :\"'))\n",
    "        playing= playing.strip().lower()\n",
    "        \n",
    "    else:\n",
    "        print(f\"see you later dear {user}\")\n",
    "\n",
    "        \n",
    "else:\n",
    "    print(\"No problem {user} we can play later\")"
   ]
  },
  {
   "cell_type": "code",
   "execution_count": null,
   "id": "52a13155-da64-4d87-9e65-0442d13afe45",
   "metadata": {},
   "outputs": [],
   "source": []
  }
 ],
 "metadata": {
  "kernelspec": {
   "display_name": "Python 3 (ipykernel)",
   "language": "python",
   "name": "python3"
  },
  "language_info": {
   "codemirror_mode": {
    "name": "ipython",
    "version": 3
   },
   "file_extension": ".py",
   "mimetype": "text/x-python",
   "name": "python",
   "nbconvert_exporter": "python",
   "pygments_lexer": "ipython3",
   "version": "3.12.4"
  }
 },
 "nbformat": 4,
 "nbformat_minor": 5
}
