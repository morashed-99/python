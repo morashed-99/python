{
 "cells": [
  {
   "cell_type": "code",
   "execution_count": 1,
   "id": "d1a63e8b",
   "metadata": {},
   "outputs": [],
   "source": [
    "# Libraries we need \n",
    "import random\n",
    "from collections import Counter"
   ]
  },
  {
   "cell_type": "code",
   "execution_count": 2,
   "id": "75654053",
   "metadata": {},
   "outputs": [],
   "source": [
    "# Words to play on \n",
    "someWords = '''apple banana mango strawberry\n",
    "orange grape pineapple apricot lemon coconut watermelon \n",
    "cherry papaya berry peach lychee muskmelon'''"
   ]
  },
  {
   "cell_type": "code",
   "execution_count": 3,
   "id": "80f4aa9a",
   "metadata": {},
   "outputs": [],
   "source": [
    "someWords = someWords.split(' ')\n",
    "# randomly choose a secret word from our \"someWords\" LIST.\n",
    "word = random.choice(someWords)"
   ]
  },
  {
   "cell_type": "code",
   "execution_count": 8,
   "id": "e9d87046",
   "metadata": {},
   "outputs": [
    {
     "name": "stdout",
     "output_type": "stream",
     "text": [
      "Please enter your name: ahmed\n",
      "Hello Ahmed you are about to play HangMan Game, Are you ready \n",
      "please write yes if you are ready: yes\n",
      "So lets start our game\n",
      "Guess the word! HINT: word is a name of a fruit\n",
      "_ _ _ _ _ _ _ _ _ _ \n",
      "\n",
      "Enter a letter to guess: e\n",
      "_ _ _ e _ _ e _ _ _ \n",
      "Enter a letter to guess: a\n",
      "_ a _ e _ _ e _ _ _ \n",
      "Enter a letter to guess: w\n",
      "w a _ e _ _ e _ _ _ \n",
      "Enter a letter to guess: t\n",
      "w a t e _ _ e _ _ _ \n",
      "Enter a letter to guess: m\n",
      "w a t e _ m e _ _ _ \n",
      "Enter a letter to guess: l\n",
      "w a t e _ m e l _ _ \n",
      "Enter a letter to guess: r\n",
      "w a t e r m e l _ _ \n",
      "Enter a letter to guess: n\n",
      "w a t e r m e l _ n \n",
      "Enter a letter to guess: o\n",
      "The word is:  watermelon\n",
      "Congratulations, You won!\n",
      "Please write yes if you want to play again: no\n"
     ]
    }
   ],
   "source": [
    "user= str(input(\"Please enter your name: \"))\n",
    "print(f\"Hello {user.strip().capitalize()} you are about to play HangMan Game, Are you ready \")\n",
    "ready= str(input(\"please write yes if you are ready: \"))\n",
    "if ready.strip().lower()== 'yes':\n",
    "    print(\"So lets start our game\")\n",
    "    playing='yes'\n",
    "    while playing == 'yes':\n",
    "        word = random.choice(someWords)\n",
    "        letterGuessed = ''\n",
    "        chances = len(word) + 2\n",
    "        correct = 0\n",
    "        flag = 0\n",
    "        print('Guess the word! HINT: word is a name of a fruit')\n",
    "        for i in word:\n",
    "            # For printing the empty spaces for letters of the word\n",
    "            print('_', end = ' ')\n",
    "        print()\n",
    "        while (chances != 0) and flag == 0: #flag is updated when the word is correctly guessed\n",
    "            print()\n",
    "            chances -= 1\n",
    "\n",
    "            try:\n",
    "                guess = str(input('Enter a letter to guess: '))\n",
    "            except:\n",
    "                print('Enter only a letter!')\n",
    "                continue\n",
    "            # Validation of the guess\n",
    "            if not guess.isalpha():\n",
    "                print('Enter only a LETTER')\n",
    "\n",
    "            elif len(guess) > 1:\n",
    "                print('Enter only a SINGLE letter')\n",
    "\n",
    "            elif guess in letterGuessed:\n",
    "                print('You have already guessed that letter')\n",
    "\n",
    "            # If letter is guessed correctly\n",
    "            if guess in word:\n",
    "                k = word.count(guess) #k stores the number of times the guessed letter occurs in the word\n",
    "                for _ in range(k):\t\n",
    "                    letterGuessed += guess # The guess letter is added as many times as it occurs\n",
    "\n",
    "\n",
    "            # Print the word\n",
    "            for char in word:\n",
    "                if char in letterGuessed and (Counter(letterGuessed) != Counter(word)):\n",
    "                    print(char, end = ' ')\n",
    "                    correct += 1\n",
    "                # If user has guessed all the letters\n",
    "                elif (Counter(letterGuessed) == Counter(word)): # Once the correct word is guessed fully,\n",
    "                                                                # the game ends, even if chances remain\n",
    "                    print(\"The word is: \", end=' ')\n",
    "                    print(word)\n",
    "                    flag = 1\n",
    "                    print('Congratulations, You won!')\n",
    "                    break # To break out of the for loop\n",
    "                    break # To break out of the while loop\n",
    "                else:\n",
    "                    print('_', end = ' ')  \n",
    "\n",
    "\n",
    "\n",
    "        # If user has used all of his chances\n",
    "        if chances <= 0 and (Counter(letterGuessed) != Counter(word)):\n",
    "            print()\n",
    "            print('You lost! Try again..')\n",
    "            print('The word was {}'.format(word))\n",
    "        playing = str(input(\"Please write yes if you want to play again: \"))\n",
    "        playing= playing.strip().lower()\n",
    "            \n",
    "else:\n",
    "    print(\"No problem friend we can play later\")"
   ]
  },
  {
   "cell_type": "code",
   "execution_count": null,
   "id": "7add65e1",
   "metadata": {},
   "outputs": [],
   "source": []
  }
 ],
 "metadata": {
  "kernelspec": {
   "display_name": "Python 3 (ipykernel)",
   "language": "python",
   "name": "python3"
  },
  "language_info": {
   "codemirror_mode": {
    "name": "ipython",
    "version": 3
   },
   "file_extension": ".py",
   "mimetype": "text/x-python",
   "name": "python",
   "nbconvert_exporter": "python",
   "pygments_lexer": "ipython3",
   "version": "3.10.2"
  }
 },
 "nbformat": 4,
 "nbformat_minor": 5
}
