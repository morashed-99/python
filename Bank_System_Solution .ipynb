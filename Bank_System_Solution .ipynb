{
 "cells": [
  {
   "cell_type": "code",
   "execution_count": 7,
   "id": "21b0d539-1713-48fd-ab2a-d74c6647807d",
   "metadata": {},
   "outputs": [],
   "source": [
    "class user:\n",
    "    def __init__(self,name,age,gender,balance=0):\n",
    "        self.name = name\n",
    "        self.age = age\n",
    "        self.gender = gender\n",
    "        self.balance = balance\n",
    "    def show(self):\n",
    "        return f\"{self.name} {self.age} {self.gender} {self.balance}\"\n",
    "        "
   ]
  },
  {
   "cell_type": "code",
   "execution_count": 9,
   "id": "ebebd5e2-8845-4adc-8837-2ce5b435e0af",
   "metadata": {},
   "outputs": [],
   "source": [
    "user1 = user('morashed',25,'male')"
   ]
  },
  {
   "cell_type": "code",
   "execution_count": 11,
   "id": "6b1ba91e-d918-4890-812d-185357d8fcf1",
   "metadata": {},
   "outputs": [
    {
     "data": {
      "text/plain": [
       "'morashed 25 male 0'"
      ]
     },
     "execution_count": 11,
     "metadata": {},
     "output_type": "execute_result"
    }
   ],
   "source": [
    "user1.show()"
   ]
  },
  {
   "cell_type": "code",
   "execution_count": 71,
   "id": "03490655-08ff-4901-b9f6-7663bb470e94",
   "metadata": {},
   "outputs": [],
   "source": [
    "class Bank(user):\n",
    "    def deposite(self,amount):\n",
    "        self.amount = amount\n",
    "        self.balance += amount\n",
    "        print('current ballance :', self.balance)\n",
    "    def withdraw(self,amount):\n",
    "        self.amount = amount\n",
    "        if self.amount > self.balance:\n",
    "            print('No enough money')\n",
    "        else:\n",
    "            self.balance -= self.amount\n",
    "            print('current balance :',self.balance)\n",
    "    def View_balance(self):\n",
    "        return f\"The current balance : {self.balance}\""
   ]
  },
  {
   "cell_type": "code",
   "execution_count": 73,
   "id": "ad923a7a-4282-4497-b590-b07e93f3842c",
   "metadata": {},
   "outputs": [],
   "source": [
    "user2 = Bank(\"mo\",25,\"male\",1000)"
   ]
  },
  {
   "cell_type": "code",
   "execution_count": 75,
   "id": "67f41eb5-026b-441a-a2fa-8722b036dd21",
   "metadata": {},
   "outputs": [
    {
     "name": "stdout",
     "output_type": "stream",
     "text": [
      "current ballance : 6200\n"
     ]
    }
   ],
   "source": [
    "user2.deposite(5200)"
   ]
  },
  {
   "cell_type": "code",
   "execution_count": 77,
   "id": "ee7cebc6-9a90-42db-995b-7fd44de0de89",
   "metadata": {},
   "outputs": [
    {
     "data": {
      "text/plain": [
       "'mo 25 male 6200'"
      ]
     },
     "execution_count": 77,
     "metadata": {},
     "output_type": "execute_result"
    }
   ],
   "source": [
    "user2.show()"
   ]
  },
  {
   "cell_type": "code",
   "execution_count": 107,
   "id": "cad58c48-3393-4481-a2e8-30a8c227f032",
   "metadata": {},
   "outputs": [],
   "source": [
    "class CIB(Bank):\n",
    "    def loan(self,amount,duration):\n",
    "        self.amount = amount\n",
    "        self.duration = duration\n",
    "        if self.amount > 1000000:\n",
    "            print('sorry! max loan is one million')\n",
    "        else:\n",
    "            print('your application is under review')\n",
    "    def show_interst(self):\n",
    "        interest_rate = 0.04 * self.duration * self.amount\n",
    "        print('interest rate :',interest_rate)\n",
    "class QNB(Bank):\n",
    "    def loan(self,amount,duration):\n",
    "        self.amount = amount\n",
    "        self.duration = duration\n",
    "        if self.amount > 2000000:\n",
    "            print('sorry! max loan is two million')\n",
    "        else:\n",
    "            print('your application is under review')\n",
    "    def show_interst(self):\n",
    "        interest_rate = 0.05 * self.duration * self.amount\n",
    "        print('interest rate :',interest_rate)"
   ]
  },
  {
   "cell_type": "code",
   "execution_count": 109,
   "id": "90d74f8c-7308-4dcf-b4fc-eeb4c90eeb14",
   "metadata": {},
   "outputs": [],
   "source": [
    "user2 = CIB('mohamed',25,'male',5000)"
   ]
  },
  {
   "cell_type": "code",
   "execution_count": 113,
   "id": "122600f4-faba-4909-a270-ec0a0012c404",
   "metadata": {},
   "outputs": [
    {
     "name": "stdout",
     "output_type": "stream",
     "text": [
      "your application is under review\n"
     ]
    }
   ],
   "source": [
    "user2.loan(500000,30)"
   ]
  },
  {
   "cell_type": "code",
   "execution_count": 115,
   "id": "3b10060a-05e7-47ef-8430-59e61d2bc8d2",
   "metadata": {},
   "outputs": [
    {
     "name": "stdout",
     "output_type": "stream",
     "text": [
      "interest rate : 600000.0\n"
     ]
    }
   ],
   "source": [
    "user2.show_interst()"
   ]
  }
 ],
 "metadata": {
  "kernelspec": {
   "display_name": "Python 3 (ipykernel)",
   "language": "python",
   "name": "python3"
  },
  "language_info": {
   "codemirror_mode": {
    "name": "ipython",
    "version": 3
   },
   "file_extension": ".py",
   "mimetype": "text/x-python",
   "name": "python",
   "nbconvert_exporter": "python",
   "pygments_lexer": "ipython3",
   "version": "3.12.4"
  }
 },
 "nbformat": 4,
 "nbformat_minor": 5
}
