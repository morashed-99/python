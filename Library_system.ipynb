{
 "cells": [
  {
   "cell_type": "code",
   "execution_count": 3,
   "id": "a69d2605-4ef2-496d-9a28-3794ae6e454b",
   "metadata": {},
   "outputs": [
    {
     "name": "stdout",
     "output_type": "stream",
     "text": [
      "Welcome to CodeWithHarry Library\n",
      "\n",
      "Please choose an option:\n",
      "1. Display Books\n",
      "2. Lend a Book\n",
      "3. Add a Book\n",
      "4. Return a Book\n",
      "5. Exit\n"
     ]
    },
    {
     "name": "stdin",
     "output_type": "stream",
     "text": [
      "\n",
      "Enter your choice (1-5):  1\n"
     ]
    },
    {
     "name": "stdout",
     "output_type": "stream",
     "text": [
      "Python,Rich Daddy Poor Daddy,Harry Potter,C++ Basics,Algorithms by CLRS,\n",
      "Please choose an option:\n",
      "1. Display Books\n",
      "2. Lend a Book\n",
      "3. Add a Book\n",
      "4. Return a Book\n",
      "5. Exit\n"
     ]
    },
    {
     "name": "stdin",
     "output_type": "stream",
     "text": [
      "\n",
      "Enter your choice (1-5):  2\n",
      "Enter the name of the book you want to lend:  Python\n",
      "Enter your name:  mohamed osama\n"
     ]
    },
    {
     "name": "stdout",
     "output_type": "stream",
     "text": [
      "Book 'Python' has been lended to mohamed osama.\n",
      "\n",
      "Please choose an option:\n",
      "1. Display Books\n",
      "2. Lend a Book\n",
      "3. Add a Book\n",
      "4. Return a Book\n",
      "5. Exit\n"
     ]
    },
    {
     "name": "stdin",
     "output_type": "stream",
     "text": [
      "\n",
      "Enter your choice (1-5):  3\n",
      "Enter the name of the book you want to add:  oop\n"
     ]
    },
    {
     "name": "stdout",
     "output_type": "stream",
     "text": [
      "\n",
      "Please choose an option:\n",
      "1. Display Books\n",
      "2. Lend a Book\n",
      "3. Add a Book\n",
      "4. Return a Book\n",
      "5. Exit\n"
     ]
    },
    {
     "name": "stdin",
     "output_type": "stream",
     "text": [
      "\n",
      "Enter your choice (1-5):  1\n"
     ]
    },
    {
     "name": "stdout",
     "output_type": "stream",
     "text": [
      "Rich Daddy Poor Daddy,Harry Potter,C++ Basics,Algorithms by CLRS,oop,\n",
      "Please choose an option:\n",
      "1. Display Books\n",
      "2. Lend a Book\n",
      "3. Add a Book\n",
      "4. Return a Book\n",
      "5. Exit\n"
     ]
    },
    {
     "name": "stdin",
     "output_type": "stream",
     "text": [
      "\n",
      "Enter your choice (1-5):  4\n",
      "Enter the name of the book you want to return:  Python\n"
     ]
    },
    {
     "name": "stdout",
     "output_type": "stream",
     "text": [
      "Python returned by mohamed osama\n",
      "\n",
      "Please choose an option:\n",
      "1. Display Books\n",
      "2. Lend a Book\n",
      "3. Add a Book\n",
      "4. Return a Book\n",
      "5. Exit\n"
     ]
    },
    {
     "name": "stdin",
     "output_type": "stream",
     "text": [
      "\n",
      "Enter your choice (1-5):  5\n"
     ]
    },
    {
     "name": "stdout",
     "output_type": "stream",
     "text": [
      "\n",
      "Thank you for visiting the library! Goodbye!\n"
     ]
    }
   ],
   "source": [
    "class Library:\n",
    "    \n",
    "    def __init__(self, name, booksList):\n",
    "        self.name = name\n",
    "        self.booksList = booksList\n",
    "        self.lendedBooks = {}\n",
    "        \n",
    "    def Add(self,book):\n",
    "        self.booksList.append(book)  \n",
    "        \n",
    "    def AvailableBooks(self):\n",
    "        for book in self.booksList:\n",
    "            print(book, end=',')\n",
    "\n",
    "    def Lending(self,book,user):\n",
    "        if book in self.booksList:\n",
    "            if book not in self.lendedBooks:\n",
    "                self.lendedBooks[book] = user\n",
    "                self.booksList.remove(book)\n",
    "                print(f\"Book '{book}' has been lended to {user}.\")\n",
    "            else:\n",
    "                print(f\"Sorry! the book '{book}' is already lended to {self.lendedBooks[book]}.\")\n",
    "        else:\n",
    "            print(f\"Sorry, the book '{book}' is not available in the library.\")\n",
    "            \n",
    "    def ReturnBorrowed(self,book):\n",
    "        if book in self.lendedBooks:\n",
    "            self.booksList.append(book)\n",
    "            user = self.lendedBooks.pop(book)\n",
    "            print(f\"{book} returned by {user}\")\n",
    "        else:\n",
    "             print(f\"{book} not landed\")\n",
    "\n",
    "Harry = Library(\"CodeWithHarry\", ['Python', 'Rich Daddy Poor Daddy', 'Harry Potter', 'C++ Basics', 'Algorithms by CLRS'])\n",
    "\n",
    "def library_menu():\n",
    "    print(f\"Welcome to {Harry.name} Library\")\n",
    "    \n",
    "    while True:\n",
    "        print(\"\\nPlease choose an option:\")\n",
    "        print(\"1. Display Books\")\n",
    "        print(\"2. Lend a Book\")\n",
    "        print(\"3. Add a Book\")\n",
    "        print(\"4. Return a Book\")\n",
    "        print(\"5. Exit\")\n",
    "        \n",
    "        choice = input(\"\\nEnter your choice (1-5): \")\n",
    "\n",
    "        if choice == '1':\n",
    "            Harry.AvailableBooks()\n",
    "        elif choice == '2':\n",
    "            book = input(\"Enter the name of the book you want to lend: \")\n",
    "            user = input(\"Enter your name: \")\n",
    "            Harry.Lending(book, user)\n",
    "        elif choice == '3':\n",
    "            book = input(\"Enter the name of the book you want to add: \")\n",
    "            Harry.Add(book)\n",
    "        elif choice == '4':\n",
    "            book = input(\"Enter the name of the book you want to return: \")\n",
    "            Harry.ReturnBorrowed(book)\n",
    "        elif choice == '5':\n",
    "            print(\"\\nThank you for visiting the library! Goodbye!\")\n",
    "            break    \n",
    "        else:\n",
    "            print(\"\\nInvalid choice, please try again.\")\n",
    "\n",
    "library_menu()"
   ]
  },
  {
   "cell_type": "code",
   "execution_count": null,
   "id": "ddea3e53-0f76-4c26-8915-b53e2578c498",
   "metadata": {},
   "outputs": [],
   "source": []
  }
 ],
 "metadata": {
  "kernelspec": {
   "display_name": "Python 3 (ipykernel)",
   "language": "python",
   "name": "python3"
  },
  "language_info": {
   "codemirror_mode": {
    "name": "ipython",
    "version": 3
   },
   "file_extension": ".py",
   "mimetype": "text/x-python",
   "name": "python",
   "nbconvert_exporter": "python",
   "pygments_lexer": "ipython3",
   "version": "3.12.4"
  }
 },
 "nbformat": 4,
 "nbformat_minor": 5
}
